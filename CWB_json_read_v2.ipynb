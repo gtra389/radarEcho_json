{
 "cells": [
  {
   "cell_type": "code",
   "execution_count": 46,
   "metadata": {},
   "outputs": [],
   "source": [
    "import requests\n",
    "import json\n",
    "import io\n",
    "from os import listdir"
   ]
  },
  {
   "cell_type": "code",
   "execution_count": 57,
   "metadata": {},
   "outputs": [
    {
     "name": "stdout",
     "output_type": "stream",
     "text": [
      "Successfully loading.\n"
     ]
    }
   ],
   "source": [
    "CWB_URL  = \"https://opendata.cwb.gov.tw/fileapi/v1/opendataapi/\"\n",
    "DATA_ID  = \"O-A0059-001\"   # 雷達整合回波資料\n",
    "# DATA_ID  = \"O-A0002-001\" # 自動雨量站-雨量觀測資料\n",
    "FOMAT    = \"JSON\"\n",
    "AUTH_KEY = \"CWB-F5271F70-2019-4E04-B488-555603C41B5A\"\n",
    "pnt_url = CWB_URL + '{}?Authorization={}&format={}'.format(DATA_ID, AUTH_KEY, FOMAT)\n",
    "\n",
    "r = requests.get(pnt_url)\n",
    "if r.status_code != 200:\n",
    "    print('r.status_code: {}'.format(r.status_code))\n",
    "else:\n",
    "    print(\"Successfully loading.\")\n",
    "data = r.json()   \n",
    "\n",
    "radarTime = data['cwbopendata']['dataset']['datasetInfo']['parameterSet']['parameter'][2]['parameterValue'][0:17]\n",
    "radarTime = radarTime.replace(\":\", \"\")\n",
    "\n",
    "save_fid = \"radar_{}.txt\".format(radarTime)\n",
    "fidList = listdir()\n",
    "if save_fid not in fidList:\n",
    "    with io.open(save_fid, \"w\", encoding = \"utf-8\") as file:\n",
    "        file.wrrite(json.dump(data, file, ensure_ascii = False, sort_keys = False, indent=4))\n",
    "else:\n",
    "    print(\"The file is exist.\")"
   ]
  }
 ],
 "metadata": {
  "kernelspec": {
   "display_name": "Python 3",
   "language": "python",
   "name": "python3"
  },
  "language_info": {
   "codemirror_mode": {
    "name": "ipython",
    "version": 3
   },
   "file_extension": ".py",
   "mimetype": "text/x-python",
   "name": "python",
   "nbconvert_exporter": "python",
   "pygments_lexer": "ipython3",
   "version": "3.6.5"
  }
 },
 "nbformat": 4,
 "nbformat_minor": 2
}
